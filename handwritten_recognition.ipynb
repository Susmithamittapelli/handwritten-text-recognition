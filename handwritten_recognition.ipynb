{
  "nbformat": 4,
  "nbformat_minor": 0,
  "metadata": {
    "colab": {
      "name": "handwritten recognition.ipynb",
      "provenance": [],
      "authorship_tag": "ABX9TyOE9/YTxVdmvE3WCWM0q1h4",
      "include_colab_link": true
    },
    "kernelspec": {
      "name": "python3",
      "display_name": "Python 3"
    },
    "language_info": {
      "name": "python"
    }
  },
  "cells": [
    {
      "cell_type": "markdown",
      "metadata": {
        "id": "view-in-github",
        "colab_type": "text"
      },
      "source": [
        "<a href=\"https://colab.research.google.com/github/Susmithamittapelli/handwritten-text-recognition/blob/main/handwritten_recognition.ipynb\" target=\"_parent\"><img src=\"https://colab.research.google.com/assets/colab-badge.svg\" alt=\"Open In Colab\"/></a>"
      ]
    },
    {
      "cell_type": "code",
      "source": [
        "import numpy as np\n",
        "import cv2\n",
        "from scipy import ndarray\n",
        "import skimage as sk\n",
        "from skimage import transform\n",
        "from skimage import util\n",
        "import random\n",
        "\n",
        "\n",
        "def random_noise(image_array: ndarray):\n",
        "    # add random noise to the image\n",
        "    return sk.util.random_noise(image_array, mode='gaussian', clip=True)\n",
        "\n",
        "\n",
        "def blur_filter(img_array: ndarray):\n",
        "    # blur the image\n",
        "    return cv2.blur(img_array, (8, 8))\n",
        "\n",
        "# for IAM dataset\n",
        "\n",
        "def reduce_line_thickness(image: ndarray):\n",
        "    kernel = np.ones((4,4), np.uint8)\n",
        "    return cv2.dilate(image, kernel, iterations=1)\n",
        "\n",
        "\n",
        "def random_stretch(img: ndarray):\n",
        "    stretch = (random.random() - 0.5)  # -0.5 .. +0.5\n",
        "    wStretched = max(int(img.shape[1] * (1 + stretch)), 1)  # random width, but at least 1\n",
        "    img = cv2.resize(img, (wStretched, img.shape[0]))  # stretch horizontally by factor 0.5 .. 1.5\n",
        "    return img\n",
        "\n",
        "\n",
        "aug_dir = \"path/to/new_aug_lines/\"\n",
        "folder_dir = \"path/to/data/lines/\"\n",
        "\n",
        "\n",
        "def return_file_names():\n",
        "    gtTexts = []\n",
        "    fileNames = []\n",
        "    with open('data/line.txt', 'r') as f:\n",
        "        for line in f:\n",
        "            # ignore comment line\n",
        "            if not line or line[0] == '#':\n",
        "                continue\n",
        "\n",
        "            lineSplit = line.strip().split(' ')  ## remove the space and split with ' '\n",
        "            # assert len(lineSplit) >= 9\n",
        "\n",
        "            # filename: part1-part2-part3 --> part1/part1-part2/part1-part2-part3.png\n",
        "            fileNameSplit = lineSplit[0].split('-')\n",
        "            # print(fileNameSplit)\n",
        "            fileName = fileNameSplit[0] + '/' + fileNameSplit[0] + '-' + fileNameSplit[1] + '/' + lineSplit[0]\n",
        "\n",
        "            # GT text are columns starting at 10\n",
        "            gtText_list = lineSplit[9].split('|')\n",
        "            gtText = ' '.join(gtText_list)\n",
        "            # put sample into list\n",
        "            gtTexts.append(gtText)\n",
        "            fileNames.append(fileName)\n",
        "    print(fileNames[0].split('/'))\n",
        "    return gtTexts, fileNames\n",
        "\n",
        "\n",
        "def write_text(paths, gtTexts):\n",
        "    with open('data/line_new.txt', 'w') as f:\n",
        "        for i in range(len(paths)):\n",
        "            text = gtTexts[i]\n",
        "            t = text.split(' ')\n",
        "            t = '|'.join(t)\n",
        "            s = paths[i] + \" x x x x x x x x \" + t\n",
        "            f.write(s + '\\n')\n",
        "    print(\"Write Sucessfully\")\n",
        "\n",
        "\n",
        "def create_aug_images():\n",
        "    gtTexts, fileNames = return_file_names()\n",
        "    image_paths = []\n",
        "    image_texts = []\n",
        "    # dictionary of the transformations functions we defined earlier\n",
        "    available_transformations = [\n",
        "        reduce_line_thickness,\n",
        "        random_noise,\n",
        "        blur_filter,\n",
        "        random_stretch\n",
        "    ]\n",
        "    # all random numbers generated in a list to choose transformations\n",
        "    choice = [random.randint(0, len(available_transformations) - 1) for p in range(0, len(gtTexts))]  # between a <= N <= b.\n",
        "    print(choice)\n",
        "    for i in range(0, len(gtTexts)):\n",
        "        # read the image\n",
        "        img_to_transform = sk.io.imread(folder_dir+fileNames[i]+\".png\")\n",
        "        transformed_image = available_transformations[choice[i]](img_to_transform)\n",
        "        img_name=aug_dir+\"iam_aug_\"+str(i)+\".png\"\n",
        "        sk.io.imsave(img_name, transformed_image)\n",
        "        image_paths.append(\"iam_aug_\"+str(i)+\".png\")\n",
        "        image_texts.append(gtTexts[i])\n",
        "    write_text(image_paths, image_texts)"
      ],
      "metadata": {
        "id": "3Z2a3EUZ3ubK"
      },
      "execution_count": 7,
      "outputs": []
    },
    {
      "cell_type": "code",
      "source": [
        ""
      ],
      "metadata": {
        "id": "Pc3kfbZo4a62"
      },
      "execution_count": null,
      "outputs": []
    }
  ]
}